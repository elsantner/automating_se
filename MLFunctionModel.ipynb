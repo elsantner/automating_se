{
 "cells": [
  {
   "cell_type": "code",
   "execution_count": 5,
   "id": "60b5e64e",
   "metadata": {},
   "outputs": [],
   "source": [
    "import pandas as pd\n",
    "import numpy as np\n",
    "import math\n",
    "import torch\n",
    "from tqdm import tqdm\n",
    "import itertools\n",
    "from function_encoders import FuncEncoderCountVectorizer, FuncEncoderTFIDFVectorizer"
   ]
  },
  {
   "cell_type": "code",
   "execution_count": 6,
   "id": "d774bdf9",
   "metadata": {},
   "outputs": [],
   "source": [
    "# DO NOT forget 'keep_default_na=False' --> otherwise some NaN values in read data\n",
    "df = pd.read_csv('./big-vul_dataset/functions_only_all.csv', skipinitialspace=True, low_memory=True, keep_default_na=False)"
   ]
  },
  {
   "cell_type": "code",
   "execution_count": 7,
   "id": "fccae0b2",
   "metadata": {},
   "outputs": [
    {
     "data": {
      "text/html": [
       "<div>\n",
       "<style scoped>\n",
       "    .dataframe tbody tr th:only-of-type {\n",
       "        vertical-align: middle;\n",
       "    }\n",
       "\n",
       "    .dataframe tbody tr th {\n",
       "        vertical-align: top;\n",
       "    }\n",
       "\n",
       "    .dataframe thead th {\n",
       "        text-align: right;\n",
       "    }\n",
       "</style>\n",
       "<table border=\"1\" class=\"dataframe\">\n",
       "  <thead>\n",
       "    <tr style=\"text-align: right;\">\n",
       "      <th></th>\n",
       "      <th>Unnamed: 0</th>\n",
       "      <th>func_id</th>\n",
       "      <th>processed_func</th>\n",
       "      <th>target</th>\n",
       "    </tr>\n",
       "  </thead>\n",
       "  <tbody>\n",
       "    <tr>\n",
       "      <th>0</th>\n",
       "      <td>0</td>\n",
       "      <td>0</td>\n",
       "      <td>static bool check_rodc_critical_attribute(stru...</td>\n",
       "      <td>0</td>\n",
       "    </tr>\n",
       "    <tr>\n",
       "      <th>1</th>\n",
       "      <td>1</td>\n",
       "      <td>1</td>\n",
       "      <td>static int samldb_add_entry(struct samldb_ctx ...</td>\n",
       "      <td>0</td>\n",
       "    </tr>\n",
       "    <tr>\n",
       "      <th>2</th>\n",
       "      <td>2</td>\n",
       "      <td>2</td>\n",
       "      <td>static int samldb_add_entry_callback(struct ld...</td>\n",
       "      <td>0</td>\n",
       "    </tr>\n",
       "    <tr>\n",
       "      <th>3</th>\n",
       "      <td>3</td>\n",
       "      <td>3</td>\n",
       "      <td>static int samldb_add_handle_msDS_IntId(struct...</td>\n",
       "      <td>0</td>\n",
       "    </tr>\n",
       "    <tr>\n",
       "      <th>4</th>\n",
       "      <td>4</td>\n",
       "      <td>4</td>\n",
       "      <td>static int samldb_add_step(struct samldb_ctx *...</td>\n",
       "      <td>0</td>\n",
       "    </tr>\n",
       "  </tbody>\n",
       "</table>\n",
       "</div>"
      ],
      "text/plain": [
       "   Unnamed: 0  func_id                                     processed_func  \\\n",
       "0           0        0  static bool check_rodc_critical_attribute(stru...   \n",
       "1           1        1  static int samldb_add_entry(struct samldb_ctx ...   \n",
       "2           2        2  static int samldb_add_entry_callback(struct ld...   \n",
       "3           3        3  static int samldb_add_handle_msDS_IntId(struct...   \n",
       "4           4        4  static int samldb_add_step(struct samldb_ctx *...   \n",
       "\n",
       "   target  \n",
       "0       0  \n",
       "1       0  \n",
       "2       0  \n",
       "3       0  \n",
       "4       0  "
      ]
     },
     "execution_count": 7,
     "metadata": {},
     "output_type": "execute_result"
    }
   ],
   "source": [
    "df.head()"
   ]
  },
  {
   "cell_type": "code",
   "execution_count": 9,
   "id": "32b91a53",
   "metadata": {},
   "outputs": [
    {
     "name": "stderr",
     "output_type": "stream",
     "text": [
      "D:\\Elias\\Documents\\AAU\\Automating_SE\\automating_se\\function_encoders.py:33: UserWarning: Loading vocabulary form 'func_vocab.pkl' failed. Falling back to df_data.\n",
      "  warnings.warn(\"Loading vocabulary form '{0}' failed. Falling back to df_data.\".format(vocabulary_path))\n"
     ]
    }
   ],
   "source": [
    "encoder = FuncEncoderCountVectorizer(df_data=df, vocabulary_path=\"vocab/func_vocab.pkl\")"
   ]
  },
  {
   "cell_type": "code",
   "execution_count": 10,
   "id": "4afc85f6",
   "metadata": {},
   "outputs": [],
   "source": [
    "from sklearn.model_selection import train_test_split\n",
    "\n",
    "# split into training and validation sets\n",
    "func_tr, func_test, y_tr, y_test = \\\n",
    "    train_test_split(df['processed_func'], df['target'], test_size=0.2, random_state=42)"
   ]
  },
  {
   "cell_type": "code",
   "execution_count": 11,
   "id": "69eaf156",
   "metadata": {},
   "outputs": [],
   "source": [
    "# define how big a batch of entries should be (depending on RAM)\n",
    "batch_size = 100\n",
    "\n",
    "# number of epochs is calulated based on the batch_size\n",
    "epochs = math.ceil(len(func_tr)/batch_size)\n",
    "\n",
    "# split the dataframes (X_tr, y_tr) into an array of dataframes (number of epochs)\n",
    "batchesFunc = np.array_split(func_tr, epochs)\n",
    "batchesY = np.array_split(y_tr, epochs)"
   ]
  },
  {
   "cell_type": "code",
   "execution_count": 12,
   "id": "d0586adb",
   "metadata": {},
   "outputs": [
    {
     "name": "stderr",
     "output_type": "stream",
     "text": [
      "100%|██████████████████| 1510/1510 [10:45<00:00,  2.34it/s]\n"
     ]
    }
   ],
   "source": [
    "# import and initialisation of generic MLPClassifier\n",
    "from sklearn.neural_network import MLPClassifier\n",
    "clf = MLPClassifier(activation='relu', alpha=0.05, hidden_layer_sizes=(1500,750), learning_rate='adaptive',solver='adam', shuffle=True)\n",
    "\n",
    "# iterate over the number of epochs\n",
    "for i in tqdm(range(epochs)):\n",
    "    # take a batch and process it and partial_fit the model to the batch\n",
    "    func_batch, Y_batch = batchesFunc[i], batchesY[i]\n",
    "    \n",
    "    # encode to vector \n",
    "    encodedBatch = encoder.encode(func_batch.tolist())\n",
    "    \n",
    "    clf.partial_fit(encodedBatch, Y_batch, classes=np.unique(y_tr))"
   ]
  },
  {
   "cell_type": "code",
   "execution_count": 13,
   "id": "52c5217a",
   "metadata": {},
   "outputs": [
    {
     "name": "stdout",
     "output_type": "stream",
     "text": [
      "Accuracy of prediction:  0.9728318490245971\n",
      "              precision    recall  f1-score   support\n",
      "\n",
      "           0       0.97      1.00      0.99     35508\n",
      "           1       0.98      0.55      0.71      2220\n",
      "\n",
      "    accuracy                           0.97     37728\n",
      "   macro avg       0.97      0.78      0.85     37728\n",
      "weighted avg       0.97      0.97      0.97     37728\n",
      "\n"
     ]
    }
   ],
   "source": [
    "X_test_encoded = encoder.encode(func_test.tolist())\n",
    "\n",
    "print(\"Accuracy of prediction: \" , clf.score(X_test_encoded, y_test))\n",
    "from sklearn.metrics import classification_report\n",
    "y_pred = clf.predict(X_test_encoded)\n",
    "print(classification_report(y_test, y_pred))"
   ]
  },
  {
   "cell_type": "code",
   "execution_count": 15,
   "id": "58c466ed",
   "metadata": {},
   "outputs": [
    {
     "data": {
      "text/plain": [
       "['models/full_function.model']"
      ]
     },
     "execution_count": 15,
     "metadata": {},
     "output_type": "execute_result"
    }
   ],
   "source": [
    "from joblib import dump\n",
    "# Store model\n",
    "dump(clf, 'models/full_function.model')"
   ]
  },
  {
   "cell_type": "code",
   "execution_count": null,
   "id": "78a6c25a",
   "metadata": {},
   "outputs": [],
   "source": []
  }
 ],
 "metadata": {
  "kernelspec": {
   "display_name": "Python 3 (ipykernel)",
   "language": "python",
   "name": "python3"
  },
  "language_info": {
   "codemirror_mode": {
    "name": "ipython",
    "version": 3
   },
   "file_extension": ".py",
   "mimetype": "text/x-python",
   "name": "python",
   "nbconvert_exporter": "python",
   "pygments_lexer": "ipython3",
   "version": "3.9.13"
  }
 },
 "nbformat": 4,
 "nbformat_minor": 5
}
