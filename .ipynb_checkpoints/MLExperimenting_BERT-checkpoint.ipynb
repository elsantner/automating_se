{
 "cells": [
  {
   "cell_type": "markdown",
   "metadata": {},
   "source": [
    "## ML experimentation\n",
    "#### Current approach:\n",
    "- Selection of 3 different encoders (TokenVectorizer, 2x BERT embeddings)\n",
    "- All encoders use CodeBERT as a tokenizer\n",
    "- line, prev_line & next_line are considered\n",
    "- MLPClassifier, not optimized yet\n",
    "\n",
    "\n",
    "#### Open issues:\n",
    "- Try different ML models\n",
    "- Include joern-features (maybe, but unlikely due to resource constraints)\n",
    "- Hyperparameter tuning\n",
    "- ...\n",
    "\n",
    "_References_:\n",
    "- https://www.analyticsvidhya.com/blog/2019/09/demystifying-bert-groundbreaking-nlp-framework/\n",
    "- https://github.com/microsoft/CodeBERT"
   ]
  },
  {
   "cell_type": "code",
   "execution_count": 35,
   "metadata": {},
   "outputs": [],
   "source": [
    "import pandas as pd\n",
    "import numpy as np\n",
    "import math\n",
    "import torch\n",
    "from tqdm import tqdm\n",
    "import itertools\n",
    "from line_encoders import EncoderCountVectorizer, EncoderBERTVectorConcat, EncoderBERTStringConcat"
   ]
  },
  {
   "cell_type": "code",
   "execution_count": 36,
   "metadata": {},
   "outputs": [],
   "source": [
    "# DO NOT forget 'keep_default_na=False' --> otherwise some NaN values in read data\n",
    "df = pd.read_csv('./big-vul_dataset/line_sample_all_balanced_ratio.csv', skipinitialspace=True, low_memory=True, keep_default_na=False)"
   ]
  },
  {
   "cell_type": "code",
   "execution_count": 37,
   "metadata": {
    "scrolled": true
   },
   "outputs": [
    {
     "data": {
      "text/html": [
       "<div>\n",
       "<style scoped>\n",
       "    .dataframe tbody tr th:only-of-type {\n",
       "        vertical-align: middle;\n",
       "    }\n",
       "\n",
       "    .dataframe tbody tr th {\n",
       "        vertical-align: top;\n",
       "    }\n",
       "\n",
       "    .dataframe thead th {\n",
       "        text-align: right;\n",
       "    }\n",
       "</style>\n",
       "<table border=\"1\" class=\"dataframe\">\n",
       "  <thead>\n",
       "    <tr style=\"text-align: right;\">\n",
       "      <th></th>\n",
       "      <th>Unnamed: 0</th>\n",
       "      <th>func_id</th>\n",
       "      <th>line</th>\n",
       "      <th>vul</th>\n",
       "      <th>prev_line</th>\n",
       "      <th>next_line</th>\n",
       "    </tr>\n",
       "  </thead>\n",
       "  <tbody>\n",
       "    <tr>\n",
       "      <th>0</th>\n",
       "      <td>0</td>\n",
       "      <td>177738</td>\n",
       "      <td>} while (*ptr);</td>\n",
       "      <td>1</td>\n",
       "      <td>ptr++;</td>\n",
       "      <td>s-&gt;have_period = 1;</td>\n",
       "    </tr>\n",
       "    <tr>\n",
       "      <th>1</th>\n",
       "      <td>1</td>\n",
       "      <td>177739</td>\n",
       "      <td>if (TLS1_get_version(s) &gt;= TLS1_2_VERSION &amp;&amp;</td>\n",
       "      <td>1</td>\n",
       "      <td>long alg2 = s-&gt;s3-&gt;tmp.new_cipher-&gt;algorithm2;</td>\n",
       "      <td>alg2 == (SSL_HANDSHAKE_MAC_DEFAULT|TLS1_PRF))</td>\n",
       "    </tr>\n",
       "    <tr>\n",
       "      <th>2</th>\n",
       "      <td>2</td>\n",
       "      <td>177740</td>\n",
       "      <td>if (timestr-&gt;length &lt; 13) {</td>\n",
       "      <td>1</td>\n",
       "      <td>long gmadjust = 0;</td>\n",
       "      <td>php_error_docref(NULL TSRMLS_CC, E_WARNING, \"e...</td>\n",
       "    </tr>\n",
       "    <tr>\n",
       "      <th>3</th>\n",
       "      <td>3</td>\n",
       "      <td>177740</td>\n",
       "      <td>php_error_docref(NULL TSRMLS_CC, E_WARNING, \"e...</td>\n",
       "      <td>1</td>\n",
       "      <td>if (timestr-&gt;length &lt; 13) {</td>\n",
       "      <td>return (time_t)-1;</td>\n",
       "    </tr>\n",
       "    <tr>\n",
       "      <th>4</th>\n",
       "      <td>4</td>\n",
       "      <td>177740</td>\n",
       "      <td>strbuf = estrdup((char *)timestr-&gt;data);</td>\n",
       "      <td>1</td>\n",
       "      <td>}</td>\n",
       "      <td>memset(&amp;thetime, 0, sizeof(thetime));</td>\n",
       "    </tr>\n",
       "  </tbody>\n",
       "</table>\n",
       "</div>"
      ],
      "text/plain": [
       "   Unnamed: 0  func_id                                               line  \\\n",
       "0           0   177738                                    } while (*ptr);   \n",
       "1           1   177739       if (TLS1_get_version(s) >= TLS1_2_VERSION &&   \n",
       "2           2   177740                        if (timestr->length < 13) {   \n",
       "3           3   177740  php_error_docref(NULL TSRMLS_CC, E_WARNING, \"e...   \n",
       "4           4   177740           strbuf = estrdup((char *)timestr->data);   \n",
       "\n",
       "   vul                                       prev_line  \\\n",
       "0    1                                          ptr++;   \n",
       "1    1  long alg2 = s->s3->tmp.new_cipher->algorithm2;   \n",
       "2    1                              long gmadjust = 0;   \n",
       "3    1                     if (timestr->length < 13) {   \n",
       "4    1                                               }   \n",
       "\n",
       "                                           next_line  \n",
       "0                                s->have_period = 1;  \n",
       "1      alg2 == (SSL_HANDSHAKE_MAC_DEFAULT|TLS1_PRF))  \n",
       "2  php_error_docref(NULL TSRMLS_CC, E_WARNING, \"e...  \n",
       "3                                 return (time_t)-1;  \n",
       "4              memset(&thetime, 0, sizeof(thetime));  "
      ]
     },
     "execution_count": 37,
     "metadata": {},
     "output_type": "execute_result"
    }
   ],
   "source": [
    "df.head()"
   ]
  },
  {
   "cell_type": "markdown",
   "metadata": {},
   "source": [
    "## Data preparation section\n",
    "\n",
    "- Selection of 3 different data encoders\n",
    "- Create train and test dataset\n",
    "- Split into batches\n",
    "\n",
    "### Please select _encoder_ below!\n",
    "- `encoder = EncoderCountVectorizer(df_data=df, vocabulary_path=\"vec_vocabulary.pkl\")`\n",
    "- `encoder = EncoderBERTVectorConcat()`\n",
    "- `encoder = EncoderBERTStringConcat()`"
   ]
  },
  {
   "cell_type": "code",
   "execution_count": 43,
   "metadata": {},
   "outputs": [
    {
     "name": "stderr",
     "output_type": "stream",
     "text": [
      "C:\\Users\\Felix\\Documents\\GitHub\\automating_se\\line_encoders.py:28: UserWarning: Both df_data and vocabulary_path are set. Ignoring df_data.\n",
      "  warnings.warn(\"Both df_data and vocabulary_path are set. Ignoring df_data.\")\n"
     ]
    }
   ],
   "source": [
    "### Use a standard vectorization approach by creating a feature matrix.\n",
    "### Loses semantic and structural information, but it is FAST (>> anything BERT embedding related)\n",
    "### Pre-configured to use 750 features \n",
    "encoder = EncoderCountVectorizer(df_data=df, vocabulary_path=\"vec_vocabulary.pkl\")\n",
    "\n",
    "### Most precise since the embeddings of all 3 features are preserved (i.e. generates a 2304-element vector)\n",
    "### On average 2x slower than EncoderBERTStringConcat\n",
    "### Set avg_embeddings=False to take the first embedding vector, or True to average all embedding vectors\n",
    "\n",
    "# encoder = EncoderBERTVectorConcat(avg_embeddings=False)\n",
    "\n",
    "### Less precise since all 3 features are concatenated before embedding creation (i.e. generates a 768-element vector)\n",
    "### On average 2x faster than EncoderBERTVectorConcat\n",
    "### Set avg_embeddings=False to take the first embedding vector, or True to average all embedding vectors\n",
    "\n",
    "# encoder = EncoderBERTStringConcat()"
   ]
  },
  {
   "cell_type": "code",
   "execution_count": 44,
   "metadata": {},
   "outputs": [],
   "source": [
    "from sklearn.model_selection import train_test_split\n",
    "\n",
    "# split into training and validation sets\n",
    "line_tr, line_test, prev_line_tr, prev_line_test, next_line_tr, next_line_test, y_tr, y_test = \\\n",
    "    train_test_split(df['line'], df['prev_line'], df['next_line'], df['vul'], test_size=0.2, random_state=42)"
   ]
  },
  {
   "cell_type": "code",
   "execution_count": 45,
   "metadata": {},
   "outputs": [],
   "source": [
    "# define how big a batch of entries should be (depending on RAM)\n",
    "batch_size = 100\n",
    "\n",
    "# number of epochs is calulated based on the batch_size\n",
    "epochs = math.ceil(len(line_tr)/batch_size)\n",
    "\n",
    "# split the dataframes (X_tr, y_tr) into an array of dataframes (number of epochs)\n",
    "batchesLine = np.array_split(line_tr, epochs)\n",
    "batchesPrevLine = np.array_split(prev_line_tr, epochs)\n",
    "batchesNextLine = np.array_split(next_line_tr, epochs)\n",
    "batchesY = np.array_split(y_tr, epochs)"
   ]
  },
  {
   "cell_type": "markdown",
   "metadata": {},
   "source": [
    "## ML Model\n",
    "\n",
    "- Using train_test_split for creating subsets of data\n",
    "- Training MLPClassifier with training data\n",
    "- Evaluating model with test data\n",
    "- (Include RandomForestClassifier as one alternative option for model)\n"
   ]
  },
  {
   "cell_type": "code",
   "execution_count": 46,
   "metadata": {},
   "outputs": [
    {
     "name": "stderr",
     "output_type": "stream",
     "text": [
      "100%|██████████| 656/656 [03:05<00:00,  3.53it/s]\n"
     ]
    }
   ],
   "source": [
    "# import and initialisation of generic MLPClassifier\n",
    "from sklearn.neural_network import MLPClassifier\n",
    "clf = MLPClassifier(activation='relu', alpha=0.05, hidden_layer_sizes=(1250,625,), learning_rate='adaptive',solver='adam', shuffle=True)\n",
    "\n",
    "# iterate over the number of epochs\n",
    "for i in tqdm(range(epochs)):\n",
    "    # take a batch and process it and partial_fit the model to the batch\n",
    "    line_batch, prev_line_batch, next_line_batch, Y_batch = batchesLine[i], batchesPrevLine[i], batchesNextLine[i], batchesY[i]\n",
    "    \n",
    "    # encode to vector \n",
    "    encodedBatch = encoder.encode(line_batch.tolist(), prev_line_batch.tolist(), next_line_batch.tolist())\n",
    "    \n",
    "    clf.partial_fit(encodedBatch, Y_batch, classes=np.unique(y_tr))"
   ]
  },
  {
   "cell_type": "code",
   "execution_count": null,
   "metadata": {},
   "outputs": [],
   "source": [
    "# RandomForestClassifier (Currently WIP)\n",
    "# Does not provide a partial_fit() method, therefore workaround by increasing tree count each epoch\n",
    "\n",
    "TREE_INCREASE_EACH_EPOCH = 10\n",
    "\n",
    "# import and initialisation of generic MLPClassifier\n",
    "from sklearn.ensemble import RandomForestClassifier\n",
    "clf = RandomForestClassifier(n_estimators=100, warm_start=True)\n",
    "\n",
    "# iterate over the number of epochs\n",
    "for i in tqdm(range(epochs)):\n",
    "    # take a batch and process it and partial_fit the model to the batch\n",
    "    line_batch, prev_line_batch, next_line_batch, Y_batch = batchesLine[i], batchesPrevLine[i], batchesNextLine[i], batchesY[i]\n",
    "    \n",
    "    # encode to vector \n",
    "    encodedBatch = encoder.encode(line_batch.tolist(), prev_line_batch.tolist(), next_line_batch.tolist())\n",
    "    \n",
    "    clf.fit(encodedBatch, Y_batch)\n",
    "    # increase tree count each epoch\n",
    "    clf.set_params(n_estimators=len(clf.estimators_)+TREE_INCREASE_EACH_EPOCH)"
   ]
  },
  {
   "cell_type": "code",
   "execution_count": 17,
   "metadata": {},
   "outputs": [
    {
     "name": "stderr",
     "output_type": "stream",
     "text": [
      "100%|██████████| 148/148 [00:14<00:00, 10.42it/s]\n"
     ]
    }
   ],
   "source": [
    "# Naive Bayes approach\n",
    "\n",
    "from sklearn.naive_bayes import MultinomialNB\n",
    "clf = MultinomialNB()\n",
    "\n",
    "# iterate over the number of epochs\n",
    "for i in tqdm(range(epochs)):\n",
    "    # take a batch and process it and partial_fit the model to the batch\n",
    "    line_batch, prev_line_batch, next_line_batch, Y_batch = batchesLine[i], batchesPrevLine[i], batchesNextLine[i], batchesY[i]\n",
    "    \n",
    "    # encode to vector \n",
    "    encodedBatch = encoder.encode(line_batch.tolist(), prev_line_batch.tolist(), next_line_batch.tolist())\n",
    "    \n",
    "    clf.partial_fit(encodedBatch, Y_batch, classes=np.unique(y_tr))\n",
    "\n"
   ]
  },
  {
   "cell_type": "code",
   "execution_count": 23,
   "metadata": {},
   "outputs": [
    {
     "name": "stderr",
     "output_type": "stream",
     "text": [
      "100%|██████████| 148/148 [00:09<00:00, 15.48it/s]\n"
     ]
    }
   ],
   "source": [
    "from sklearn.linear_model import SGDClassifier\n",
    "clf = SGDClassifier()\n",
    "\n",
    "# iterate over the number of epochs\n",
    "for i in tqdm(range(epochs)):\n",
    "    # take a batch and process it and partial_fit the model to the batch\n",
    "    line_batch, prev_line_batch, next_line_batch, Y_batch = batchesLine[i], batchesPrevLine[i], batchesNextLine[i], batchesY[i]\n",
    "    \n",
    "    # encode to vector \n",
    "    encodedBatch = encoder.encode(line_batch.tolist(), prev_line_batch.tolist(), next_line_batch.tolist())\n",
    "    \n",
    "    clf.partial_fit(encodedBatch, Y_batch, classes=np.unique(y_tr))\n",
    "\n"
   ]
  },
  {
   "cell_type": "code",
   "execution_count": 47,
   "metadata": {
    "scrolled": true
   },
   "outputs": [
    {
     "name": "stdout",
     "output_type": "stream",
     "text": [
      "Accuracy of prediction:  0.7148003419220906\n",
      "              precision    recall  f1-score   support\n",
      "\n",
      "           0       0.70      0.76      0.73      8169\n",
      "           1       0.74      0.67      0.70      8209\n",
      "\n",
      "    accuracy                           0.71     16378\n",
      "   macro avg       0.72      0.71      0.71     16378\n",
      "weighted avg       0.72      0.71      0.71     16378\n",
      "\n"
     ]
    }
   ],
   "source": [
    "X_test_encoded = encoder.encode(line_test.tolist(), prev_line_test.tolist(), next_line_test.tolist())\n",
    "\n",
    "print(\"Accuracy of prediction: \" , clf.score(X_test_encoded, y_test))\n",
    "from sklearn.metrics import classification_report\n",
    "y_pred = clf.predict(X_test_encoded)\n",
    "print(classification_report(y_test, y_pred))"
   ]
  },
  {
   "cell_type": "markdown",
   "metadata": {},
   "source": [
    "## Model persistance\n",
    "Selectively execute when needed!"
   ]
  },
  {
   "cell_type": "code",
   "execution_count": null,
   "metadata": {},
   "outputs": [],
   "source": [
    "from joblib import dump\n",
    "# Store model\n",
    "dump(clf, 'models/mlp_BERTVectorConcat_firstEmbedding.model')"
   ]
  },
  {
   "cell_type": "code",
   "execution_count": null,
   "metadata": {},
   "outputs": [],
   "source": [
    "from joblib import load\n",
    "# Load model\n",
    "clf = load('mlp.model') "
   ]
  },
  {
   "cell_type": "markdown",
   "metadata": {},
   "source": [
    "## Hyperparameter tuning\n",
    "\n",
    "<span style=\"color:red\">Currently not _really_ supported due to missing batch support. <br>i.e. only works for small data samples and _EncoderCountVectorizer_</span> "
   ]
  },
  {
   "cell_type": "code",
   "execution_count": null,
   "metadata": {},
   "outputs": [],
   "source": [
    "mlp = MLPClassifier(max_iter=100)\n",
    "parameter_space = {\n",
    "    'hidden_layer_sizes': [(50,50,50), (50,100,50), (100,)],\n",
    "    'activation': ['tanh', 'relu'],\n",
    "    'solver': ['sgd', 'adam'],\n",
    "    'alpha': [0.0001, 0.05],\n",
    "    'learning_rate': ['constant','adaptive'],\n",
    "}\n",
    "\n",
    "# TODO: add batch support to allow for larger data end even alternative encoders\n",
    "\n",
    "encoded_X_tr = encoder.encode(line_tr.tolist(), prev_line_tr.tolist(), next_line_tr.tolist())\n",
    "\n",
    "from sklearn.model_selection import GridSearchCV\n",
    "\n",
    "gridclf = GridSearchCV(mlp, parameter_space, n_jobs=-1, cv=3)\n",
    "gridclf.fit(encoded_X_tr, y_tr)\n",
    "\n",
    "\n",
    "# Best parameter set\n",
    "print('Best parameters found:\\n', gridclf.best_params_)\n",
    "\n",
    "# All results\n",
    "means = gridclf.cv_results_['mean_test_score']\n",
    "stds = gridclf.cv_results_['std_test_score']\n",
    "for mean, std, params in zip(means, stds, gridclf.cv_results_['params']):\n",
    "    print(\"%0.3f (+/-%0.03f) for %r\" % (mean, std * 2, params))\n",
    "\n"
   ]
  },
  {
   "cell_type": "code",
   "execution_count": null,
   "metadata": {},
   "outputs": [],
   "source": [
    "from sklearn.ensemble import RandomForestClassifier\n",
    "rndclf = RandomForestClassifier(max_depth=2, random_state=0)\n",
    "rndclf.fit(X_train, y_train)\n",
    "rndclf.score(X_test, y_test)\n",
    "\n",
    "y_pred = rndclf.predict(X_test)\n",
    "print(classification_report(y_test, y_pred))\n",
    "\n"
   ]
  },
  {
   "cell_type": "markdown",
   "metadata": {},
   "source": [
    "## Validation section\n",
    "\n",
    "- Read unbalanced dataset\n",
    "- Encode using selected encoder\n",
    "- Evaluate model"
   ]
  },
  {
   "cell_type": "code",
   "execution_count": null,
   "metadata": {},
   "outputs": [],
   "source": [
    "# DO NOT forget 'keep_default_na=False' --> otherwise some NaN values in read data\n",
    "val_df = pd.read_csv('./big-vul_dataset/line_sample_10p_original_ratio.csv', skipinitialspace=True, low_memory=True, keep_default_na=False)"
   ]
  },
  {
   "cell_type": "code",
   "execution_count": null,
   "metadata": {},
   "outputs": [],
   "source": [
    "line_val, prev_line_val, next_line_val, y_val = df['line'], df['prev_line'], df['next_line'], df['vul']\n",
    "\n",
    "X_val_encoded = encoder.encode(line_val.tolist(), prev_line_val.tolist(), next_line_val.tolist())\n",
    "print(\"Accuracy of prediction: \" , clf.score(X_val_encoded, y_val))\n",
    "y_val_pred = clf.predict(X_val_encoded)\n",
    "print(classification_report(y_val, y_val_pred))"
   ]
  },
  {
   "cell_type": "code",
   "execution_count": null,
   "metadata": {},
   "outputs": [],
   "source": []
  }
 ],
 "metadata": {
  "kernelspec": {
   "display_name": "Python 3 (ipykernel)",
   "language": "python",
   "name": "python3"
  },
  "language_info": {
   "codemirror_mode": {
    "name": "ipython",
    "version": 3
   },
   "file_extension": ".py",
   "mimetype": "text/x-python",
   "name": "python",
   "nbconvert_exporter": "python",
   "pygments_lexer": "ipython3",
   "version": "3.9.7"
  }
 },
 "nbformat": 4,
 "nbformat_minor": 4
}
