{
 "cells": [
  {
   "cell_type": "markdown",
   "metadata": {},
   "source": [
    "## Function Vul Prediction\n",
    "Evaluate how well our model can predict whether or not a function contains a vulnerable line."
   ]
  },
  {
   "cell_type": "code",
   "execution_count": 1,
   "metadata": {},
   "outputs": [],
   "source": [
    "import pandas as pd\n",
    "import numpy as np\n",
    "import math\n",
    "import torch\n",
    "from tqdm import tqdm\n",
    "import itertools\n",
    "from line_encoders import EncoderCountVectorizer, EncoderTFIDFVectorizer, EncoderBERTVectorConcat, EncoderBERTStringConcat"
   ]
  },
  {
   "cell_type": "code",
   "execution_count": 2,
   "metadata": {},
   "outputs": [],
   "source": [
    "# DO NOT forget 'keep_default_na=False' --> otherwise some NaN values in read data\n",
    "df = pd.read_csv('./big-vul_dataset/validation_split/train_line_20p_balanced.csv', skipinitialspace=True, low_memory=True, keep_default_na=False)\n",
    "\n",
    "# DO NOT forget 'keep_default_na=False' --> otherwise some NaN values in read data\n",
    "df_functions = pd.read_csv('./big-vul_dataset/validation_split/train_functions.csv', usecols=['func_id', 'target'], skipinitialspace=True, low_memory=True, keep_default_na=False)\n",
    "df = pd.merge(df, df_functions, on='func_id', how='inner')"
   ]
  },
  {
   "cell_type": "code",
   "execution_count": 3,
   "metadata": {
    "scrolled": true
   },
   "outputs": [
    {
     "data": {
      "text/html": [
       "<div>\n",
       "<style scoped>\n",
       "    .dataframe tbody tr th:only-of-type {\n",
       "        vertical-align: middle;\n",
       "    }\n",
       "\n",
       "    .dataframe tbody tr th {\n",
       "        vertical-align: top;\n",
       "    }\n",
       "\n",
       "    .dataframe thead th {\n",
       "        text-align: right;\n",
       "    }\n",
       "</style>\n",
       "<table border=\"1\" class=\"dataframe\">\n",
       "  <thead>\n",
       "    <tr style=\"text-align: right;\">\n",
       "      <th></th>\n",
       "      <th>Unnamed: 0</th>\n",
       "      <th>func_id</th>\n",
       "      <th>line</th>\n",
       "      <th>vul</th>\n",
       "      <th>prev_line</th>\n",
       "      <th>next_line</th>\n",
       "      <th>target</th>\n",
       "    </tr>\n",
       "  </thead>\n",
       "  <tbody>\n",
       "    <tr>\n",
       "      <th>0</th>\n",
       "      <td>0</td>\n",
       "      <td>185664</td>\n",
       "      <td>static_cast&lt;int&gt;(url.spec().length()),</td>\n",
       "      <td>1</td>\n",
       "      <td>return String::format(\"\\n&lt;!-- saved from url=(...</td>\n",
       "      <td>url.spec().data());</td>\n",
       "      <td>1</td>\n",
       "    </tr>\n",
       "    <tr>\n",
       "      <th>1</th>\n",
       "      <td>1</td>\n",
       "      <td>180191</td>\n",
       "      <td>send_sig(SIGKILL, current, 0);</td>\n",
       "      <td>1</td>\n",
       "      <td>WARN_ON(1);</td>\n",
       "      <td>return -1;</td>\n",
       "      <td>1</td>\n",
       "    </tr>\n",
       "    <tr>\n",
       "      <th>2</th>\n",
       "      <td>1216</td>\n",
       "      <td>180191</td>\n",
       "      <td>return -1;</td>\n",
       "      <td>1</td>\n",
       "      <td>send_sig(SIGKILL, current, 0);</td>\n",
       "      <td>}</td>\n",
       "      <td>1</td>\n",
       "    </tr>\n",
       "    <tr>\n",
       "      <th>3</th>\n",
       "      <td>1220</td>\n",
       "      <td>180191</td>\n",
       "      <td>int ret;</td>\n",
       "      <td>1</td>\n",
       "      <td>unsigned int i, has_cntl = 0, too_long = 0;</td>\n",
       "      <td>/* strnlen_user includes the null we don't wan...</td>\n",
       "      <td>1</td>\n",
       "    </tr>\n",
       "    <tr>\n",
       "      <th>4</th>\n",
       "      <td>1818</td>\n",
       "      <td>180191</td>\n",
       "      <td>* any.</td>\n",
       "      <td>1</td>\n",
       "      <td>* for strings that are too long, we should not...</td>\n",
       "      <td>*</td>\n",
       "      <td>1</td>\n",
       "    </tr>\n",
       "  </tbody>\n",
       "</table>\n",
       "</div>"
      ],
      "text/plain": [
       "   Unnamed: 0  func_id                                    line  vul  \\\n",
       "0           0   185664  static_cast<int>(url.spec().length()),    1   \n",
       "1           1   180191          send_sig(SIGKILL, current, 0);    1   \n",
       "2        1216   180191                              return -1;    1   \n",
       "3        1220   180191                                int ret;    1   \n",
       "4        1818   180191                                  * any.    1   \n",
       "\n",
       "                                           prev_line  \\\n",
       "0  return String::format(\"\\n<!-- saved from url=(...   \n",
       "1                                        WARN_ON(1);   \n",
       "2                     send_sig(SIGKILL, current, 0);   \n",
       "3        unsigned int i, has_cntl = 0, too_long = 0;   \n",
       "4  * for strings that are too long, we should not...   \n",
       "\n",
       "                                           next_line  target  \n",
       "0                                url.spec().data());       1  \n",
       "1                                         return -1;       1  \n",
       "2                                                  }       1  \n",
       "3  /* strnlen_user includes the null we don't wan...       1  \n",
       "4                                                  *       1  "
      ]
     },
     "execution_count": 3,
     "metadata": {},
     "output_type": "execute_result"
    }
   ],
   "source": [
    "df.head()"
   ]
  },
  {
   "cell_type": "code",
   "execution_count": 4,
   "metadata": {},
   "outputs": [
    {
     "name": "stderr",
     "output_type": "stream",
     "text": [
      "D:\\Elias\\Documents\\AAU\\Automating_SE\\automating_se\\line_encoders.py:29: UserWarning: Both df_data and vocabulary_path are set. Ignoring df_data.\n",
      "  warnings.warn(\"Both df_data and vocabulary_path are set. Ignoring df_data.\")\n"
     ]
    }
   ],
   "source": [
    "### Use a standard vectorization approach by creating a feature matrix.\n",
    "### Loses semantic and structural information, but it is FAST (>> anything BERT embedding related)\n",
    "### Pre-configured to use 750 features \n",
    "encoder = EncoderCountVectorizer(df_data=df, vocabulary_path=\"vocab/vec_vocabulary.pkl\")\n",
    "#encoder = EncoderTFIDFVectorizer(df_data=df)\n",
    "#encoder = EncoderCountVectorizer(df_data=df)\n",
    "\n",
    "### Most precise since the embeddings of all 3 features are preserved (i.e. generates a 2304-element vector)\n",
    "### On average 2x slower than EncoderBERTStringConcat\n",
    "### Set avg_embeddings=False to take the first embedding vector, or True to average all embedding vectors\n",
    "\n",
    "#encoder = EncoderBERTVectorConcat(avg_embeddings=False)\n",
    "\n",
    "### Less precise since all 3 features are concatenated before embedding creation (i.e. generates a 768-element vector)\n",
    "### On average 2x faster than EncoderBERTVectorConcat\n",
    "### Set avg_embeddings=False to take the first embedding vector, or True to average all embedding vectors\n",
    "\n",
    "#encoder = EncoderBERTStringConcat()"
   ]
  },
  {
   "cell_type": "code",
   "execution_count": 5,
   "metadata": {},
   "outputs": [],
   "source": [
    "from sklearn.model_selection import train_test_split\n",
    "\n",
    "# split into training and validation sets\n",
    "line_tr, line_test, prev_line_tr, prev_line_test, next_line_tr, next_line_test, func_vul_tr, func_vul_test, y_tr, y_test = \\\n",
    "    train_test_split(df['line'], df['prev_line'], df['next_line'], df['target'], df['vul'], test_size=0.2, random_state=42)"
   ]
  },
  {
   "cell_type": "code",
   "execution_count": 6,
   "metadata": {},
   "outputs": [],
   "source": [
    "# define how big a batch of entries should be (depending on RAM)\n",
    "batch_size = 100\n",
    "\n",
    "# number of epochs is calulated based on the batch_size\n",
    "epochs = math.ceil(len(line_tr)/batch_size)\n",
    "\n",
    "# split the dataframes (X_tr, y_tr) into an array of dataframes (number of epochs)\n",
    "batchesLine = np.array_split(line_tr, epochs)\n",
    "batchesPrevLine = np.array_split(prev_line_tr, epochs)\n",
    "batchesNextLine = np.array_split(next_line_tr, epochs)\n",
    "batchesFuncVul = np.array_split(func_vul_tr, epochs)\n",
    "batchesY = np.array_split(y_tr, epochs)"
   ]
  },
  {
   "cell_type": "markdown",
   "metadata": {},
   "source": [
    "## ML Model\n",
    "\n",
    "- Using train_test_split for creating subsets of data\n",
    "- Training MLPClassifier with training data\n",
    "- Evaluating model with test data\n",
    "- (Include RandomForestClassifier as one alternative option for model)\n"
   ]
  },
  {
   "cell_type": "code",
   "execution_count": 7,
   "metadata": {},
   "outputs": [
    {
     "name": "stderr",
     "output_type": "stream",
     "text": [
      "100%|████████████████████| 109/109 [01:27<00:00,  1.24it/s]\n"
     ]
    }
   ],
   "source": [
    "# import and initialisation of generic MLPClassifier\n",
    "from sklearn.neural_network import MLPClassifier\n",
    "clf = MLPClassifier(activation='relu', alpha=0.05, hidden_layer_sizes=(1500,750), learning_rate='adaptive',solver='adam', shuffle=True)\n",
    "\n",
    "# iterate over the number of epochs\n",
    "for i in tqdm(range(epochs)):\n",
    "    # take a batch and process it and partial_fit the model to the batch\n",
    "    line_batch, prev_line_batch, next_line_batch, func_vul, Y_batch = \\\n",
    "        batchesLine[i], batchesPrevLine[i], batchesNextLine[i], batchesFuncVul[i], batchesY[i]\n",
    "    \n",
    "    # encode to vector \n",
    "    encodedBatch = encoder.encode(line_batch.tolist(), prev_line_batch.tolist(), \\\n",
    "                                  next_line_batch.tolist(), func_vul.tolist())\n",
    "    \n",
    "    clf.partial_fit(encodedBatch, Y_batch, classes=np.unique(y_tr))"
   ]
  },
  {
   "cell_type": "code",
   "execution_count": 8,
   "metadata": {
    "scrolled": true
   },
   "outputs": [
    {
     "name": "stdout",
     "output_type": "stream",
     "text": [
      "Accuracy of prediction:  0.9204712812960235\n",
      "              precision    recall  f1-score   support\n",
      "\n",
      "           0       0.95      0.89      0.92      1357\n",
      "           1       0.90      0.95      0.92      1359\n",
      "\n",
      "    accuracy                           0.92      2716\n",
      "   macro avg       0.92      0.92      0.92      2716\n",
      "weighted avg       0.92      0.92      0.92      2716\n",
      "\n"
     ]
    }
   ],
   "source": [
    "X_test_encoded = encoder.encode(line_test.tolist(), prev_line_test.tolist(), \\\n",
    "                                next_line_test.tolist(), func_vul_test.tolist())\n",
    "\n",
    "print(\"Accuracy of prediction: \" , clf.score(X_test_encoded, y_test))\n",
    "from sklearn.metrics import classification_report\n",
    "y_pred = clf.predict(X_test_encoded)\n",
    "print(classification_report(y_test, y_pred))"
   ]
  },
  {
   "cell_type": "markdown",
   "metadata": {},
   "source": [
    "## Model persistance\n",
    "Selectively execute when needed!"
   ]
  },
  {
   "cell_type": "code",
   "execution_count": 9,
   "metadata": {},
   "outputs": [
    {
     "data": {
      "text/plain": [
       "['models/validation_split/mlp_Count_withFuncVul.model']"
      ]
     },
     "execution_count": 9,
     "metadata": {},
     "output_type": "execute_result"
    }
   ],
   "source": [
    "from joblib import dump\n",
    "# Store model\n",
    "dump(clf, 'models/validation_split/mlp_Count_withFuncVul.model')"
   ]
  },
  {
   "cell_type": "code",
   "execution_count": null,
   "metadata": {},
   "outputs": [],
   "source": [
    "from joblib import load\n",
    "# Load model\n",
    "clf = load('models/mlp_Count_withFuncVul.model') "
   ]
  },
  {
   "cell_type": "markdown",
   "metadata": {},
   "source": [
    "## Validation section\n",
    "\n",
    "Evaluate on validation set.\n",
    "Group results by function and see if function is predicted correctly."
   ]
  },
  {
   "cell_type": "code",
   "execution_count": 19,
   "metadata": {},
   "outputs": [],
   "source": [
    "# Load data for validation of the whole process\n",
    "\n",
    "# DO NOT forget 'keep_default_na=False' --> otherwise some NaN values in read data\n",
    "val_df = pd.read_csv('./big-vul_dataset/validation_split/validation_line.csv', skipinitialspace=True, low_memory=True, keep_default_na=False)\n",
    "df_functions = pd.read_csv('./big-vul_dataset/validation_split/validation_functions.csv', skipinitialspace=True, low_memory=True, keep_default_na=False)\n",
    "val_df = pd.merge(val_df, df_functions, on='func_id', how='inner')\n",
    "val_df = val_df.reset_index()\n",
    "val_df = val_df.sample(frac=0.2)"
   ]
  },
  {
   "cell_type": "code",
   "execution_count": 20,
   "metadata": {},
   "outputs": [],
   "source": [
    "from joblib import load\n",
    "# Load function model\n",
    "clf_func = load('models/validation_split/full_function.model')"
   ]
  },
  {
   "cell_type": "code",
   "execution_count": 23,
   "metadata": {},
   "outputs": [
    {
     "name": "stderr",
     "output_type": "stream",
     "text": [
      "100%|██████████████████| 1004/1004 [02:04<00:00,  8.07it/s]\n"
     ]
    },
    {
     "name": "stdout",
     "output_type": "stream",
     "text": [
      "              precision    recall  f1-score   support\n",
      "\n",
      "           0       1.00      0.80      0.89     99993\n",
      "           1       0.01      0.50      0.02       403\n",
      "\n",
      "    accuracy                           0.80    100396\n",
      "   macro avg       0.50      0.65      0.45    100396\n",
      "weighted avg       0.99      0.80      0.88    100396\n",
      "\n"
     ]
    }
   ],
   "source": [
    "from sklearn.metrics import classification_report\n",
    "\n",
    "# DO NOT forget 'keep_default_na=False' --> otherwise some NaN values in read data\n",
    "val_df = pd.read_csv('./big-vul_dataset/validation_split/validation_line.csv', \n",
    "                     skipinitialspace=True, low_memory=True, keep_default_na=False)\n",
    "\n",
    "df_functions = pd.read_csv('./big-vul_dataset/validation_split/validation_functions.csv', skipinitialspace=True, low_memory=True, keep_default_na=False)\n",
    "val_df = pd.merge(val_df, df_functions, on='func_id', how='inner')\n",
    "val_df = val_df.reset_index()\n",
    "\n",
    "# sample n random, but complete functions (i.e. all lines of that function)\n",
    "sampled_func_ids = val_df['func_id'].sample(1000)\n",
    "val_df = val_df.drop(val_df[~val_df.func_id.isin(sampled_func_ids)].index)\n",
    "\n",
    "# predict all function vulnerabilities and join to df\n",
    "from function_encoders import FuncEncoderCountVectorizer\n",
    "encoder_func = FuncEncoderCountVectorizer(vocabulary_path=\"vocab/func_vocab.pkl\")\n",
    "\n",
    "df_functions_sampled = df_functions.drop(df_functions[~df_functions.func_id.isin(sampled_func_ids)].index)\n",
    "func_vul_pred = clf_func.predict(encoder_func.encode(df_functions_sampled['processed_func'].tolist()))\n",
    "df_functions_sampled['func_vul_pred'] = func_vul_pred\n",
    "\n",
    "val_df = pd.merge(val_df, df_functions_sampled[['func_id', 'func_vul_pred']], on='func_id', how='inner')\n",
    "val_df = val_df.reset_index()\n",
    "\n",
    "\n",
    "line_val, prev_line_val, next_line_val, func_vul_val, y_val = val_df['line'], val_df['prev_line'], val_df['next_line'], val_df['func_vul_pred'], val_df['vul']\n",
    "\n",
    "# define how big a batch of entries should be (depending on RAM)\n",
    "batch_size = 100\n",
    "# number of epochs is calulated based on the batch_size\n",
    "epochs = math.ceil(len(line_val)/batch_size)\n",
    "\n",
    "# split the dataframes (X_tr, y_tr) into an array of dataframes (number of epochs)\n",
    "batchesLine = np.array_split(line_val, epochs)\n",
    "batchesPrevLine = np.array_split(prev_line_val, epochs)\n",
    "batchesNextLine = np.array_split(next_line_val, epochs)\n",
    "batchesFuncVul = np.array_split(func_vul_val, epochs)\n",
    "batchesY = np.array_split(y_val, epochs)\n",
    "\n",
    "y_val_pred = []\n",
    "# iterate over the number of epochs\n",
    "for i in tqdm(range(epochs)):\n",
    "    # take a batch and process it and partial_fit the model to the batch\n",
    "    line_batch, prev_line_batch, next_line_batch, func_vul_batch, Y_batch = batchesLine[i], batchesPrevLine[i], batchesNextLine[i], batchesFuncVul[i], batchesY[i]\n",
    "    \n",
    "    # encode to vector \n",
    "    X_val_encoded = encoder.encode(line_batch.tolist(), prev_line_batch.tolist(), next_line_batch.tolist(), func_vul_batch.tolist())\n",
    "    y_val_pred = y_val_pred + clf.predict(X_val_encoded).tolist()\n",
    "\n",
    "print(classification_report(y_val, y_val_pred))"
   ]
  },
  {
   "cell_type": "code",
   "execution_count": 24,
   "metadata": {},
   "outputs": [
    {
     "name": "stdout",
     "output_type": "stream",
     "text": [
      "              precision    recall  f1-score   support\n",
      "\n",
      "           0       0.97      0.76      0.85       771\n",
      "           1       0.32      0.84      0.46       106\n",
      "\n",
      "    accuracy                           0.77       877\n",
      "   macro avg       0.65      0.80      0.66       877\n",
      "weighted avg       0.89      0.77      0.80       877\n",
      "\n"
     ]
    }
   ],
   "source": [
    "val_df['line_pred'] = y_val_pred\n",
    "\n",
    "func_vul_pred = []\n",
    "func_vul_act = []\n",
    "\n",
    "for name, group in val_df.groupby('func_id'):\n",
    "    func_vul_pred.append(group['line_pred'].max())\n",
    "    func_vul_act.append(group['target'].max())\n",
    "    \n",
    "print(classification_report(func_vul_act, func_vul_pred))"
   ]
  },
  {
   "cell_type": "code",
   "execution_count": null,
   "metadata": {},
   "outputs": [],
   "source": []
  }
 ],
 "metadata": {
  "kernelspec": {
   "display_name": "Python 3 (ipykernel)",
   "language": "python",
   "name": "python3"
  },
  "language_info": {
   "codemirror_mode": {
    "name": "ipython",
    "version": 3
   },
   "file_extension": ".py",
   "mimetype": "text/x-python",
   "name": "python",
   "nbconvert_exporter": "python",
   "pygments_lexer": "ipython3",
   "version": "3.9.13"
  }
 },
 "nbformat": 4,
 "nbformat_minor": 4
}
