{
 "cells": [
  {
   "cell_type": "markdown",
   "metadata": {},
   "source": [
    "## ML experimentation\n",
    "#### Current approach:\n",
    "- Selection of 3 different encoders (TokenVectorizer, 2x BERT embeddings)\n",
    "- All encoders use CodeBERT as a tokenizer\n",
    "- line, prev_line, next_line & func_vul are considered\n",
    "- MLPClassifier, not optimized yet\n",
    "\n",
    "\n",
    "#### Open issues:\n",
    "- Try different ML models\n",
    "- Include joern-features (maybe, but unlikely due to resource constraints)\n",
    "- Hyperparameter tuning\n",
    "- ...\n",
    "\n",
    "_References_:\n",
    "- https://www.analyticsvidhya.com/blog/2019/09/demystifying-bert-groundbreaking-nlp-framework/\n",
    "- https://github.com/microsoft/CodeBERT"
   ]
  },
  {
   "cell_type": "code",
   "execution_count": 1,
   "metadata": {},
   "outputs": [],
   "source": [
    "import pandas as pd\n",
    "import numpy as np\n",
    "import math\n",
    "import torch\n",
    "from tqdm import tqdm\n",
    "import itertools\n",
    "from line_encoders import EncoderCountVectorizer, EncoderTFIDFVectorizer, EncoderBERTVectorConcat, EncoderBERTStringConcat"
   ]
  },
  {
   "cell_type": "code",
   "execution_count": 2,
   "metadata": {},
   "outputs": [],
   "source": [
    "# DO NOT forget 'keep_default_na=False' --> otherwise some NaN values in read data\n",
    "df = pd.read_csv('./big-vul_dataset/line_sample_20p_balanced_train.csv', skipinitialspace=True, low_memory=True, keep_default_na=False)\n",
    "\n",
    "# DO NOT forget 'keep_default_na=False' --> otherwise some NaN values in read data\n",
    "df_functions = pd.read_csv('./big-vul_dataset/functions_only_all.csv', usecols=['func_id', 'target'], skipinitialspace=True, low_memory=True, keep_default_na=False)\n",
    "df = pd.merge(df, df_functions, on='func_id', how='inner')"
   ]
  },
  {
   "cell_type": "code",
   "execution_count": 3,
   "metadata": {
    "scrolled": true
   },
   "outputs": [
    {
     "data": {
      "text/html": [
       "<div>\n",
       "<style scoped>\n",
       "    .dataframe tbody tr th:only-of-type {\n",
       "        vertical-align: middle;\n",
       "    }\n",
       "\n",
       "    .dataframe tbody tr th {\n",
       "        vertical-align: top;\n",
       "    }\n",
       "\n",
       "    .dataframe thead th {\n",
       "        text-align: right;\n",
       "    }\n",
       "</style>\n",
       "<table border=\"1\" class=\"dataframe\">\n",
       "  <thead>\n",
       "    <tr style=\"text-align: right;\">\n",
       "      <th></th>\n",
       "      <th>Unnamed: 0</th>\n",
       "      <th>func_id</th>\n",
       "      <th>line</th>\n",
       "      <th>vul</th>\n",
       "      <th>prev_line</th>\n",
       "      <th>next_line</th>\n",
       "      <th>target</th>\n",
       "    </tr>\n",
       "  </thead>\n",
       "  <tbody>\n",
       "    <tr>\n",
       "      <th>0</th>\n",
       "      <td>0</td>\n",
       "      <td>178329</td>\n",
       "      <td>s-&gt;method = TLSv1_1_server_method();</td>\n",
       "      <td>1</td>\n",
       "      <td>else if (s-&gt;version == TLS1_1_VERSION)</td>\n",
       "      <td>else if (s-&gt;version == TLS1_VERSION)</td>\n",
       "      <td>1</td>\n",
       "    </tr>\n",
       "    <tr>\n",
       "      <th>1</th>\n",
       "      <td>1</td>\n",
       "      <td>188459</td>\n",
       "      <td>long long element_start,</td>\n",
       "      <td>1</td>\n",
       "      <td>long long size_,</td>\n",
       "      <td>long long element_size) :</td>\n",
       "      <td>1</td>\n",
       "    </tr>\n",
       "    <tr>\n",
       "      <th>2</th>\n",
       "      <td>2742</td>\n",
       "      <td>188459</td>\n",
       "      <td>m_element_start(element_start),</td>\n",
       "      <td>1</td>\n",
       "      <td>m_size(size_),</td>\n",
       "      <td>m_element_size(element_size),</td>\n",
       "      <td>1</td>\n",
       "    </tr>\n",
       "    <tr>\n",
       "      <th>3</th>\n",
       "      <td>3473</td>\n",
       "      <td>188459</td>\n",
       "      <td>long long start,</td>\n",
       "      <td>1</td>\n",
       "      <td>Segment* pSegment,</td>\n",
       "      <td>long long size_,</td>\n",
       "      <td>1</td>\n",
       "    </tr>\n",
       "    <tr>\n",
       "      <th>4</th>\n",
       "      <td>6263</td>\n",
       "      <td>188459</td>\n",
       "      <td>m_element_size(element_size),</td>\n",
       "      <td>1</td>\n",
       "      <td>m_element_start(element_start),</td>\n",
       "      <td>m_entries(0),</td>\n",
       "      <td>1</td>\n",
       "    </tr>\n",
       "  </tbody>\n",
       "</table>\n",
       "</div>"
      ],
      "text/plain": [
       "   Unnamed: 0  func_id                                  line  vul  \\\n",
       "0           0   178329  s->method = TLSv1_1_server_method();    1   \n",
       "1           1   188459              long long element_start,    1   \n",
       "2        2742   188459       m_element_start(element_start),    1   \n",
       "3        3473   188459                      long long start,    1   \n",
       "4        6263   188459         m_element_size(element_size),    1   \n",
       "\n",
       "                                prev_line  \\\n",
       "0  else if (s->version == TLS1_1_VERSION)   \n",
       "1                        long long size_,   \n",
       "2                          m_size(size_),   \n",
       "3                      Segment* pSegment,   \n",
       "4         m_element_start(element_start),   \n",
       "\n",
       "                              next_line  target  \n",
       "0  else if (s->version == TLS1_VERSION)       1  \n",
       "1             long long element_size) :       1  \n",
       "2         m_element_size(element_size),       1  \n",
       "3                      long long size_,       1  \n",
       "4                         m_entries(0),       1  "
      ]
     },
     "execution_count": 3,
     "metadata": {},
     "output_type": "execute_result"
    }
   ],
   "source": [
    "df.head()"
   ]
  },
  {
   "cell_type": "markdown",
   "metadata": {},
   "source": [
    "## Data preparation section\n",
    "\n",
    "- Selection of 3 different data encoders\n",
    "- Create train and test dataset\n",
    "- Split into batches\n",
    "\n",
    "### Please select _encoder_ below!\n",
    "- `encoder = EncoderCountVectorizer(df_data=df, vocabulary_path=\"vec_vocabulary.pkl\")`\n",
    "- `encoder = EncoderBERTVectorConcat()`\n",
    "- `encoder = EncoderBERTStringConcat()`"
   ]
  },
  {
   "cell_type": "code",
   "execution_count": 4,
   "metadata": {},
   "outputs": [
    {
     "name": "stderr",
     "output_type": "stream",
     "text": [
      "D:\\Elias\\Documents\\AAU\\Automating_SE\\automating_se\\line_encoders.py:29: UserWarning: Both df_data and vocabulary_path are set. Ignoring df_data.\n",
      "  warnings.warn(\"Both df_data and vocabulary_path are set. Ignoring df_data.\")\n"
     ]
    }
   ],
   "source": [
    "### Use a standard vectorization approach by creating a feature matrix.\n",
    "### Loses semantic and structural information, but it is FAST (>> anything BERT embedding related)\n",
    "### Pre-configured to use 750 features \n",
    "encoder = EncoderCountVectorizer(df_data=df, vocabulary_path=\"vocab/vec_vocabulary.pkl\")\n",
    "#encoder = EncoderTFIDFVectorizer(df_data=df)\n",
    "#encoder = EncoderCountVectorizer(df_data=df)\n",
    "\n",
    "### Most precise since the embeddings of all 3 features are preserved (i.e. generates a 2304-element vector)\n",
    "### On average 2x slower than EncoderBERTStringConcat\n",
    "### Set avg_embeddings=False to take the first embedding vector, or True to average all embedding vectors\n",
    "\n",
    "#encoder = EncoderBERTVectorConcat(avg_embeddings=False)\n",
    "\n",
    "### Less precise since all 3 features are concatenated before embedding creation (i.e. generates a 768-element vector)\n",
    "### On average 2x faster than EncoderBERTVectorConcat\n",
    "### Set avg_embeddings=False to take the first embedding vector, or True to average all embedding vectors\n",
    "\n",
    "#encoder = EncoderBERTStringConcat()"
   ]
  },
  {
   "cell_type": "code",
   "execution_count": null,
   "metadata": {},
   "outputs": [],
   "source": [
    "test = encoder.encode([\"int x = 5\", \"int x = 5\"], [\"function(){\", \"function(){\"], [\"}\", \"}\"], [0,1])\n",
    "test"
   ]
  },
  {
   "cell_type": "code",
   "execution_count": 5,
   "metadata": {},
   "outputs": [],
   "source": [
    "from sklearn.model_selection import train_test_split\n",
    "\n",
    "# split into training and validation sets\n",
    "line_tr, line_test, prev_line_tr, prev_line_test, next_line_tr, next_line_test, func_vul_tr, func_vul_test, y_tr, y_test = \\\n",
    "    train_test_split(df['line'], df['prev_line'], df['next_line'], df['target'], df['vul'], test_size=0.2, random_state=42)"
   ]
  },
  {
   "cell_type": "code",
   "execution_count": 6,
   "metadata": {},
   "outputs": [],
   "source": [
    "# define how big a batch of entries should be (depending on RAM)\n",
    "batch_size = 100\n",
    "\n",
    "# number of epochs is calulated based on the batch_size\n",
    "epochs = math.ceil(len(line_tr)/batch_size)\n",
    "\n",
    "# split the dataframes (X_tr, y_tr) into an array of dataframes (number of epochs)\n",
    "batchesLine = np.array_split(line_tr, epochs)\n",
    "batchesPrevLine = np.array_split(prev_line_tr, epochs)\n",
    "batchesNextLine = np.array_split(next_line_tr, epochs)\n",
    "batchesFuncVul = np.array_split(func_vul_tr, epochs)\n",
    "batchesY = np.array_split(y_tr, epochs)"
   ]
  },
  {
   "cell_type": "markdown",
   "metadata": {},
   "source": [
    "## ML Model\n",
    "\n",
    "- Using train_test_split for creating subsets of data\n",
    "- Training MLPClassifier with training data\n",
    "- Evaluating model with test data\n",
    "- (Include RandomForestClassifier as one alternative option for model)\n"
   ]
  },
  {
   "cell_type": "code",
   "execution_count": 7,
   "metadata": {},
   "outputs": [
    {
     "name": "stderr",
     "output_type": "stream",
     "text": [
      "100%|████████████████████| 114/114 [01:19<00:00,  1.44it/s]\n"
     ]
    }
   ],
   "source": [
    "# import and initialisation of generic MLPClassifier\n",
    "from sklearn.neural_network import MLPClassifier\n",
    "clf = MLPClassifier(activation='relu', alpha=0.05, hidden_layer_sizes=(1500,750), learning_rate='adaptive',solver='adam', shuffle=True)\n",
    "\n",
    "# iterate over the number of epochs\n",
    "for i in tqdm(range(epochs)):\n",
    "    # take a batch and process it and partial_fit the model to the batch\n",
    "    line_batch, prev_line_batch, next_line_batch, func_vul, Y_batch = \\\n",
    "        batchesLine[i], batchesPrevLine[i], batchesNextLine[i], batchesFuncVul[i], batchesY[i]\n",
    "    \n",
    "    # encode to vector \n",
    "    encodedBatch = encoder.encode(line_batch.tolist(), prev_line_batch.tolist(), \\\n",
    "                                  next_line_batch.tolist(), func_vul.tolist())\n",
    "    \n",
    "    clf.partial_fit(encodedBatch, Y_batch, classes=np.unique(y_tr))"
   ]
  },
  {
   "cell_type": "code",
   "execution_count": null,
   "metadata": {},
   "outputs": [],
   "source": [
    "# RandomForestClassifier (Currently WIP)\n",
    "# Does not provide a partial_fit() method, therefore workaround by increasing tree count each epoch\n",
    "\n",
    "TREE_INCREASE_EACH_EPOCH = 10\n",
    "\n",
    "# import and initialisation of generic MLPClassifier\n",
    "from sklearn.ensemble import RandomForestClassifier\n",
    "clf = RandomForestClassifier(n_estimators=100, warm_start=True)\n",
    "\n",
    "# iterate over the number of epochs\n",
    "for i in tqdm(range(epochs)):\n",
    "    # take a batch and process it and partial_fit the model to the batch\n",
    "    line_batch, prev_line_batch, next_line_batch, func_vul, Y_batch = \\\n",
    "        batchesLine[i], batchesPrevLine[i], batchesNextLine[i], batchesFuncVul[i], batchesY[i]\n",
    "    \n",
    "    # encode to vector \n",
    "    encodedBatch = encoder.encode(line_batch.tolist(), prev_line_batch.tolist(), \\\n",
    "                                  next_line_batch.tolist(), func_vul.tolist())\n",
    "    \n",
    "    clf.fit(encodedBatch, Y_batch)\n",
    "    # increase tree count each epoch\n",
    "    clf.set_params(n_estimators=len(clf.estimators_)+TREE_INCREASE_EACH_EPOCH)"
   ]
  },
  {
   "cell_type": "code",
   "execution_count": null,
   "metadata": {},
   "outputs": [],
   "source": [
    "# Naive Bayes approach\n",
    "\n",
    "from sklearn.naive_bayes import MultinomialNB\n",
    "clf = MultinomialNB()\n",
    "\n",
    "# iterate over the number of epochs\n",
    "for i in tqdm(range(epochs)):\n",
    "    # take a batch and process it and partial_fit the model to the batch\n",
    "    line_batch, prev_line_batch, next_line_batch, func_vul, Y_batch = \\\n",
    "        batchesLine[i], batchesPrevLine[i], batchesNextLine[i], batchesFuncVul[i], batchesY[i]\n",
    "    \n",
    "    # encode to vector \n",
    "    encodedBatch = encoder.encode(line_batch.tolist(), prev_line_batch.tolist(), \\\n",
    "                                  next_line_batch.tolist(), func_vul.tolist())\n",
    "    \n",
    "    clf.partial_fit(encodedBatch, Y_batch, classes=np.unique(y_tr))\n",
    "\n"
   ]
  },
  {
   "cell_type": "code",
   "execution_count": null,
   "metadata": {},
   "outputs": [],
   "source": [
    "from sklearn.linear_model import SGDClassifier\n",
    "clf = SGDClassifier()\n",
    "\n",
    "# iterate over the number of epochs\n",
    "for i in tqdm(range(epochs)):\n",
    "    # take a batch and process it and partial_fit the model to the batch\n",
    "    line_batch, prev_line_batch, next_line_batch, func_vul, Y_batch = \\\n",
    "        batchesLine[i], batchesPrevLine[i], batchesNextLine[i], batchesFuncVul[i], batchesY[i]\n",
    "    \n",
    "    # encode to vector \n",
    "    encodedBatch = encoder.encode(line_batch.tolist(), prev_line_batch.tolist(), \\\n",
    "                                  next_line_batch.tolist(), func_vul.tolist())\n",
    "    \n",
    "    clf.partial_fit(encodedBatch, Y_batch, classes=np.unique(y_tr))\n",
    "\n"
   ]
  },
  {
   "cell_type": "code",
   "execution_count": null,
   "metadata": {
    "scrolled": true
   },
   "outputs": [],
   "source": [
    "X_test_encoded = encoder.encode(line_test.tolist(), prev_line_test.tolist(), \\\n",
    "                                next_line_test.tolist(), func_vul_test.tolist())\n",
    "\n",
    "print(\"Accuracy of prediction: \" , clf.score(X_test_encoded, y_test))\n",
    "from sklearn.metrics import classification_report\n",
    "y_pred = clf.predict(X_test_encoded)\n",
    "print(classification_report(y_test, y_pred))"
   ]
  },
  {
   "cell_type": "markdown",
   "metadata": {},
   "source": [
    "## Model persistance\n",
    "Selectively execute when needed!"
   ]
  },
  {
   "cell_type": "code",
   "execution_count": null,
   "metadata": {},
   "outputs": [],
   "source": [
    "from joblib import dump\n",
    "# Store model\n",
    "dump(clf, 'models/mlp_Count_withFuncVul.model')"
   ]
  },
  {
   "cell_type": "code",
   "execution_count": null,
   "metadata": {},
   "outputs": [],
   "source": [
    "from joblib import load\n",
    "# Load model\n",
    "clf = load('models/mlp_Count_withFuncVul.model') "
   ]
  },
  {
   "cell_type": "markdown",
   "metadata": {},
   "source": [
    "## Hyperparameter tuning\n",
    "\n",
    "<span style=\"color:red\">Currently not _really_ supported due to missing batch support. <br>i.e. only works for small data samples and _EncoderCountVectorizer_</span> "
   ]
  },
  {
   "cell_type": "code",
   "execution_count": null,
   "metadata": {},
   "outputs": [],
   "source": [
    "mlp = MLPClassifier(max_iter=100)\n",
    "parameter_space = {\n",
    "    'hidden_layer_sizes': [(50,50,50), (50,100,50), (100,)],\n",
    "    'activation': ['tanh', 'relu'],\n",
    "    'solver': ['sgd', 'adam'],\n",
    "    'alpha': [0.0001, 0.05],\n",
    "    'learning_rate': ['constant','adaptive'],\n",
    "}\n",
    "\n",
    "# TODO: add batch support to allow for larger data end even alternative encoders\n",
    "\n",
    "encoded_X_tr = encoder.encode(line_tr.tolist(), prev_line_tr.tolist(), next_line_tr.tolist())\n",
    "\n",
    "from sklearn.model_selection import GridSearchCV\n",
    "\n",
    "gridclf = GridSearchCV(mlp, parameter_space, n_jobs=-1, cv=3)\n",
    "gridclf.fit(encoded_X_tr, y_tr)\n",
    "\n",
    "\n",
    "# Best parameter set\n",
    "print('Best parameters found:\\n', gridclf.best_params_)\n",
    "\n",
    "# All results\n",
    "means = gridclf.cv_results_['mean_test_score']\n",
    "stds = gridclf.cv_results_['std_test_score']\n",
    "for mean, std, params in zip(means, stds, gridclf.cv_results_['params']):\n",
    "    print(\"%0.3f (+/-%0.03f) for %r\" % (mean, std * 2, params))\n",
    "\n"
   ]
  },
  {
   "cell_type": "code",
   "execution_count": null,
   "metadata": {},
   "outputs": [],
   "source": [
    "from sklearn.ensemble import RandomForestClassifier\n",
    "rndclf = RandomForestClassifier(max_depth=2, random_state=0)\n",
    "rndclf.fit(X_train, y_train)\n",
    "rndclf.score(X_test, y_test)\n",
    "\n",
    "y_pred = rndclf.predict(X_test)\n",
    "print(classification_report(y_test, y_pred))\n",
    "\n"
   ]
  },
  {
   "cell_type": "markdown",
   "metadata": {},
   "source": [
    "## Validation section\n",
    "\n",
    "- Read unbalanced dataset\n",
    "- Encode using selected encoder\n",
    "- Evaluate model"
   ]
  },
  {
   "cell_type": "code",
   "execution_count": 10,
   "metadata": {},
   "outputs": [],
   "source": [
    "# Load data for validation of the whole process\n",
    "\n",
    "# DO NOT forget 'keep_default_na=False' --> otherwise some NaN values in read data\n",
    "val_df = pd.read_csv('./big-vul_dataset/line_sample_val.csv', skipinitialspace=True, low_memory=True, keep_default_na=False)\n",
    "df_functions = pd.read_csv('./big-vul_dataset/functions_only_all.csv', skipinitialspace=True, low_memory=True, keep_default_na=False)\n",
    "val_df = pd.merge(val_df, df_functions, on='func_id', how='inner')\n",
    "val_df = val_df.reset_index()\n",
    "val_df = val_df.sample(2000)"
   ]
  },
  {
   "cell_type": "code",
   "execution_count": 11,
   "metadata": {},
   "outputs": [
    {
     "name": "stderr",
     "output_type": "stream",
     "text": [
      "Token indices sequence length is longer than the specified maximum sequence length for this model (859 > 512). Running this sequence through the model will result in indexing errors\n"
     ]
    },
    {
     "name": "stdout",
     "output_type": "stream",
     "text": [
      "Function-only prediction results:\n",
      "              precision    recall  f1-score   support\n",
      "\n",
      "           0       0.95      1.00      0.97      1708\n",
      "           1       1.00      0.69      0.81       292\n",
      "\n",
      "    accuracy                           0.95      2000\n",
      "   macro avg       0.97      0.84      0.89      2000\n",
      "weighted avg       0.96      0.95      0.95      2000\n",
      "\n"
     ]
    }
   ],
   "source": [
    "from joblib import load\n",
    "# Load function model\n",
    "clf_func = load('models/full_function.model')\n",
    "\n",
    "from function_encoders import FuncEncoderCountVectorizer\n",
    "encoder_func = FuncEncoderCountVectorizer(vocabulary_path=\"vocab/func_vocab.pkl\")\n",
    "\n",
    "line_val, prev_line_val, next_line_val, func_vul, func_code, y_val = \\\n",
    "    val_df['line'], val_df['prev_line'], val_df['next_line'], val_df['target'], val_df['processed_func'], val_df['vul']\n",
    "\n",
    "from sklearn.metrics import classification_report\n",
    "func_vul_pred = clf_func.predict(encoder_func.encode(func_code.tolist()))\n",
    "print('Function-only prediction results:')\n",
    "print(classification_report(func_vul, func_vul_pred))"
   ]
  },
  {
   "cell_type": "code",
   "execution_count": 12,
   "metadata": {},
   "outputs": [
    {
     "name": "stdout",
     "output_type": "stream",
     "text": [
      "Accuracy of prediction:  0.902\n",
      "              precision    recall  f1-score   support\n",
      "\n",
      "           0       1.00      0.91      0.95      1981\n",
      "           1       0.06      0.58      0.10        19\n",
      "\n",
      "    accuracy                           0.90      2000\n",
      "   macro avg       0.53      0.74      0.52      2000\n",
      "weighted avg       0.99      0.90      0.94      2000\n",
      "\n"
     ]
    }
   ],
   "source": [
    "X_val_encoded = encoder.encode(line_val.tolist(), prev_line_val.tolist(), \\\n",
    "                               next_line_val.tolist(), func_vul_pred.tolist())\n",
    "\n",
    "print(\"Accuracy of prediction: \" , clf.score(X_val_encoded, y_val))\n",
    "from sklearn.metrics import classification_report\n",
    "y_val_pred = clf.predict(X_val_encoded)\n",
    "print(classification_report(y_val, y_val_pred))"
   ]
  },
  {
   "cell_type": "code",
   "execution_count": null,
   "metadata": {},
   "outputs": [],
   "source": [
    "for input, prediction, label in zip(line_val, y_val_pred, y_val):\n",
    "  if prediction != label:\n",
    "    print(input, 'has been classified as ', prediction, 'and should be ', label)"
   ]
  },
  {
   "cell_type": "code",
   "execution_count": null,
   "metadata": {},
   "outputs": [],
   "source": []
  }
 ],
 "metadata": {
  "kernelspec": {
   "display_name": "Python 3 (ipykernel)",
   "language": "python",
   "name": "python3"
  },
  "language_info": {
   "codemirror_mode": {
    "name": "ipython",
    "version": 3
   },
   "file_extension": ".py",
   "mimetype": "text/x-python",
   "name": "python",
   "nbconvert_exporter": "python",
   "pygments_lexer": "ipython3",
   "version": "3.9.13"
  }
 },
 "nbformat": 4,
 "nbformat_minor": 4
}
