{
 "cells": [
  {
   "cell_type": "markdown",
   "metadata": {},
   "source": [
    "## ML experimentation\n",
    "#### Current approach:\n",
    "- Selection of 3 different encoders (TokenVectorizer, 2x BERT embeddings)\n",
    "- All encoders use CodeBERT as a tokenizer\n",
    "- line, prev_line & next_line are considered\n",
    "- MLPClassifier, not optimized yet\n",
    "\n",
    "\n",
    "#### Open issues:\n",
    "- Try different ML models\n",
    "- Include joern-features (maybe, but unlikely due to resource constraints)\n",
    "- Hyperparameter tuning\n",
    "- ...\n",
    "\n",
    "_References_:\n",
    "- https://www.analyticsvidhya.com/blog/2019/09/demystifying-bert-groundbreaking-nlp-framework/\n",
    "- https://github.com/microsoft/CodeBERT"
   ]
  },
  {
   "cell_type": "code",
   "execution_count": 1,
   "metadata": {},
   "outputs": [],
   "source": [
    "import pandas as pd\n",
    "import numpy as np\n",
    "import math\n",
    "import torch\n",
    "from tqdm import tqdm\n",
    "import itertools\n",
    "from line_encoders import EncoderCountVectorizer, EncoderBERTVectorConcat, EncoderBERTStringConcat"
   ]
  },
  {
   "cell_type": "code",
   "execution_count": 2,
   "metadata": {},
   "outputs": [],
   "source": [
    "# DO NOT forget 'keep_default_na=False' --> otherwise some NaN values in read data\n",
    "df = pd.read_csv('./big-vul_dataset/line_sample_20p_balanced_ratio.csv', skipinitialspace=True, low_memory=True, keep_default_na=False)"
   ]
  },
  {
   "cell_type": "code",
   "execution_count": 3,
   "metadata": {
    "scrolled": true
   },
   "outputs": [
    {
     "data": {
      "text/html": [
       "<div>\n",
       "<style scoped>\n",
       "    .dataframe tbody tr th:only-of-type {\n",
       "        vertical-align: middle;\n",
       "    }\n",
       "\n",
       "    .dataframe tbody tr th {\n",
       "        vertical-align: top;\n",
       "    }\n",
       "\n",
       "    .dataframe thead th {\n",
       "        text-align: right;\n",
       "    }\n",
       "</style>\n",
       "<table border=\"1\" class=\"dataframe\">\n",
       "  <thead>\n",
       "    <tr style=\"text-align: right;\">\n",
       "      <th></th>\n",
       "      <th>Unnamed: 0</th>\n",
       "      <th>func_id</th>\n",
       "      <th>line</th>\n",
       "      <th>vul</th>\n",
       "      <th>prev_line</th>\n",
       "      <th>next_line</th>\n",
       "    </tr>\n",
       "  </thead>\n",
       "  <tbody>\n",
       "    <tr>\n",
       "      <th>0</th>\n",
       "      <td>0</td>\n",
       "      <td>185342</td>\n",
       "      <td>bool activatable = activatable_ &amp;&amp; !hit_test_b...</td>\n",
       "      <td>1</td>\n",
       "      <td>surface_-&gt;GetHitTestBounds() + surface_origin....</td>\n",
       "      <td>if (activatable != CanActivate()) {</td>\n",
       "    </tr>\n",
       "    <tr>\n",
       "      <th>1</th>\n",
       "      <td>1</td>\n",
       "      <td>188415</td>\n",
       "      <td>return E_BUFFER_NOT_FULL;</td>\n",
       "      <td>1</td>\n",
       "      <td>len = 1;</td>\n",
       "      <td>}</td>\n",
       "    </tr>\n",
       "    <tr>\n",
       "      <th>2</th>\n",
       "      <td>2</td>\n",
       "      <td>185284</td>\n",
       "      <td>defaultQuirksStyle = RuleSet::create().leakPtr();</td>\n",
       "      <td>1</td>\n",
       "      <td>defaultPrintStyle = RuleSet::create().leakPtr();</td>\n",
       "      <td>}</td>\n",
       "    </tr>\n",
       "    <tr>\n",
       "      <th>3</th>\n",
       "      <td>3</td>\n",
       "      <td>179389</td>\n",
       "      <td>struct ext4_extent *ex1 = NULL;</td>\n",
       "      <td>1</td>\n",
       "      <td>struct ext4_extent *ex, newex, orig_ex;</td>\n",
       "      <td>struct ext4_extent *ex2 = NULL;</td>\n",
       "    </tr>\n",
       "    <tr>\n",
       "      <th>4</th>\n",
       "      <td>4</td>\n",
       "      <td>185548</td>\n",
       "      <td>if (toHTMLElement(this)-&gt;highestAncestor() != ...</td>\n",
       "      <td>1</td>\n",
       "      <td>ASSERT(m_form);</td>\n",
       "      <td>setForm(0);</td>\n",
       "    </tr>\n",
       "  </tbody>\n",
       "</table>\n",
       "</div>"
      ],
      "text/plain": [
       "   Unnamed: 0  func_id                                               line  \\\n",
       "0           0   185342  bool activatable = activatable_ && !hit_test_b...   \n",
       "1           1   188415                          return E_BUFFER_NOT_FULL;   \n",
       "2           2   185284  defaultQuirksStyle = RuleSet::create().leakPtr();   \n",
       "3           3   179389                    struct ext4_extent *ex1 = NULL;   \n",
       "4           4   185548  if (toHTMLElement(this)->highestAncestor() != ...   \n",
       "\n",
       "   vul                                          prev_line  \\\n",
       "0    1  surface_->GetHitTestBounds() + surface_origin....   \n",
       "1    1                                           len = 1;   \n",
       "2    1   defaultPrintStyle = RuleSet::create().leakPtr();   \n",
       "3    1            struct ext4_extent *ex, newex, orig_ex;   \n",
       "4    1                                    ASSERT(m_form);   \n",
       "\n",
       "                             next_line  \n",
       "0  if (activatable != CanActivate()) {  \n",
       "1                                    }  \n",
       "2                                    }  \n",
       "3      struct ext4_extent *ex2 = NULL;  \n",
       "4                          setForm(0);  "
      ]
     },
     "execution_count": 3,
     "metadata": {},
     "output_type": "execute_result"
    }
   ],
   "source": [
    "df.head()"
   ]
  },
  {
   "cell_type": "markdown",
   "metadata": {},
   "source": [
    "## Data preparation section\n",
    "\n",
    "- Selection of 3 different data encoders\n",
    "- Create train and test dataset\n",
    "- Split into batches\n",
    "\n",
    "### Please select _encoder_ below!\n",
    "- `encoder = EncoderCountVectorizer(df_data=df, vocabulary_path=\"vec_vocabulary.pkl\")`\n",
    "- `encoder = EncoderBERTVectorConcat()`\n",
    "- `encoder = EncoderBERTStringConcat()`"
   ]
  },
  {
   "cell_type": "code",
   "execution_count": 4,
   "metadata": {},
   "outputs": [],
   "source": [
    "### Use a standard vectorization approach by creating a feature matrix.\n",
    "### Loses semantic and structural information, but it is FAST (>> anything BERT embedding related)\n",
    "### Pre-configured to use 750 features \n",
    "# encoder = EncoderCountVectorizer(df_data=df, vocabulary_path=\"vec_vocabulary.pkl\")\n",
    "\n",
    "### Most precise since the embeddings of all 3 features are preserved (i.e. generates a 2304-element vector)\n",
    "### On average 2x slower than EncoderBERTStringConcat\n",
    "### Set avg_embeddings=False to take the first embedding vector, or True to average all embedding vectors\n",
    "\n",
    "# encoder = EncoderBERTVectorConcat()\n",
    "\n",
    "### Less precise since all 3 features are concatenated before embedding creation (i.e. generates a 768-element vector)\n",
    "### On average 2x faster than EncoderBERTVectorConcat\n",
    "### Set avg_embeddings=False to take the first embedding vector, or True to average all embedding vectors\n",
    "\n",
    "encoder = EncoderBERTStringConcat(avg_embeddings=False)"
   ]
  },
  {
   "cell_type": "code",
   "execution_count": 5,
   "metadata": {},
   "outputs": [],
   "source": [
    "from sklearn.model_selection import train_test_split\n",
    "\n",
    "# split into training and validation sets\n",
    "line_tr, line_test, prev_line_tr, prev_line_test, next_line_tr, next_line_test, y_tr, y_test = \\\n",
    "    train_test_split(df['line'], df['prev_line'], df['next_line'], df['vul'], test_size=0.1, random_state=42)"
   ]
  },
  {
   "cell_type": "code",
   "execution_count": 6,
   "metadata": {},
   "outputs": [],
   "source": [
    "# define how big a batch of entries should be (depending on RAM)\n",
    "batch_size = 100\n",
    "\n",
    "# number of epochs is calulated based on the batch_size\n",
    "epochs = math.ceil(len(line_tr)/batch_size)\n",
    "\n",
    "# split the dataframes (X_tr, y_tr) into an array of dataframes (number of epochs)\n",
    "batchesLine = np.array_split(line_tr, epochs)\n",
    "batchesPrevLine = np.array_split(prev_line_tr, epochs)\n",
    "batchesNextLine = np.array_split(next_line_tr, epochs)\n",
    "batchesY = np.array_split(y_tr, epochs)"
   ]
  },
  {
   "cell_type": "markdown",
   "metadata": {},
   "source": [
    "## ML Model\n",
    "\n",
    "- Using train_test_split for creating subsets of data\n",
    "- Training MLPClassifier with training data\n",
    "- Evaluating model with test data\n",
    "- (Include RandomForestClassifier as one alternative option for model)\n"
   ]
  },
  {
   "cell_type": "code",
   "execution_count": 7,
   "metadata": {},
   "outputs": [
    {
     "name": "stderr",
     "output_type": "stream",
     "text": [
      "100%|████████████████████| 148/148 [33:26<00:00, 13.56s/it]\n"
     ]
    }
   ],
   "source": [
    "# import and initialisation of generic MLPClassifier\n",
    "from sklearn.neural_network import MLPClassifier\n",
    "clf = MLPClassifier(activation='relu', alpha=0.05, hidden_layer_sizes=(100,), learning_rate='constant',solver='adam')\n",
    "\n",
    "# iterate over the number of epochs\n",
    "for i in tqdm(range(epochs)):\n",
    "    # take a batch and process it and partial_fit the model to the batch\n",
    "    line_batch, prev_line_batch, next_line_batch, Y_batch = batchesLine[i], batchesPrevLine[i], batchesNextLine[i], batchesY[i]\n",
    "    \n",
    "    # encode to vector \n",
    "    encodedBatch = encoder.encode(line_batch.tolist(), prev_line_batch.tolist(), next_line_batch.tolist())\n",
    "    \n",
    "    clf.partial_fit(encodedBatch, Y_batch, classes=np.unique(y_tr))"
   ]
  },
  {
   "cell_type": "code",
   "execution_count": null,
   "metadata": {},
   "outputs": [],
   "source": [
    "# RandomForestClassifier (Currently WIP)\n",
    "# Does not provide a partial_fit() method, therefore workaround by increasing tree count each epoch\n",
    "\n",
    "TREE_INCREASE_EACH_EPOCH = 10\n",
    "\n",
    "# import and initialisation of generic MLPClassifier\n",
    "from sklearn.ensemble import RandomForestClassifier\n",
    "clf = RandomForestClassifier(n_estimators=100, warm_start=True)\n",
    "\n",
    "# iterate over the number of epochs\n",
    "for i in tqdm(range(epochs)):\n",
    "    # take a batch and process it and partial_fit the model to the batch\n",
    "    line_batch, prev_line_batch, next_line_batch, Y_batch = batchesLine[i], batchesPrevLine[i], batchesNextLine[i], batchesY[i]\n",
    "    \n",
    "    # encode to vector \n",
    "    encodedBatch = encoder.encode(line_batch.tolist(), prev_line_batch.tolist(), next_line_batch.tolist())\n",
    "    \n",
    "    clf.fit(encodedBatch, Y_batch)\n",
    "    # increase tree count each epoch\n",
    "    clf.set_params(n_estimators=len(clf.estimators_)+TREE_INCREASE_EACH_EPOCH)"
   ]
  },
  {
   "cell_type": "code",
   "execution_count": 9,
   "metadata": {
    "scrolled": true
   },
   "outputs": [
    {
     "name": "stdout",
     "output_type": "stream",
     "text": [
      "Accuracy of prediction:  0.63003663003663\n",
      "              precision    recall  f1-score   support\n",
      "\n",
      "           0       0.62      0.62      0.62       803\n",
      "           1       0.64      0.64      0.64       835\n",
      "\n",
      "    accuracy                           0.63      1638\n",
      "   macro avg       0.63      0.63      0.63      1638\n",
      "weighted avg       0.63      0.63      0.63      1638\n",
      "\n"
     ]
    }
   ],
   "source": [
    "X_test_encoded = encoder.encode(line_test.tolist(), prev_line_test.tolist(), next_line_test.tolist())\n",
    "\n",
    "print(\"Accuracy of prediction: \" , clf.score(X_test_encoded, y_test))\n",
    "from sklearn.metrics import classification_report\n",
    "y_pred = clf.predict(X_test_encoded)\n",
    "print(classification_report(y_test, y_pred))"
   ]
  },
  {
   "cell_type": "markdown",
   "metadata": {},
   "source": [
    "## Model persistance\n",
    "Selectively execute when needed!"
   ]
  },
  {
   "cell_type": "code",
   "execution_count": 8,
   "metadata": {},
   "outputs": [
    {
     "data": {
      "text/plain": [
       "['models/mlp_BERTStringConcat_firstEmbedding.model']"
      ]
     },
     "execution_count": 8,
     "metadata": {},
     "output_type": "execute_result"
    }
   ],
   "source": [
    "from joblib import dump\n",
    "# Store model\n",
    "dump(clf, 'models/mlp_BERTStringConcat_firstEmbedding.model')"
   ]
  },
  {
   "cell_type": "code",
   "execution_count": null,
   "metadata": {},
   "outputs": [],
   "source": [
    "from joblib import load\n",
    "# Load model\n",
    "clf = load('mlp.model') "
   ]
  },
  {
   "cell_type": "markdown",
   "metadata": {},
   "source": [
    "## Hyperparameter tuning\n",
    "\n",
    "<span style=\"color:red\">Currently not supported due to BERT & prev/next line inclusion.</span>"
   ]
  },
  {
   "cell_type": "code",
   "execution_count": null,
   "metadata": {},
   "outputs": [],
   "source": [
    "mlp = MLPClassifier(max_iter=100)\n",
    "parameter_space = {\n",
    "    'hidden_layer_sizes': [(50,50,50), (50,100,50), (100,)],\n",
    "    'activation': ['tanh', 'relu'],\n",
    "    'solver': ['sgd', 'adam'],\n",
    "    'alpha': [0.0001, 0.05],\n",
    "    'learning_rate': ['constant','adaptive'],\n",
    "}\n",
    "\n",
    "\n",
    "from sklearn.model_selection import GridSearchCV\n",
    "\n",
    "gridclf = GridSearchCV(mlp, parameter_space, n_jobs=-1, cv=3)\n",
    "gridclf.fit(X_train, y_train)\n",
    "\n",
    "\n",
    "# Best parameter set\n",
    "print('Best parameters found:\\n', gridclf.best_params_)\n",
    "\n",
    "# All results\n",
    "means = gridclf.cv_results_['mean_test_score']\n",
    "stds = gridclf.cv_results_['std_test_score']\n",
    "for mean, std, params in zip(means, stds, gridclf.cv_results_['params']):\n",
    "    print(\"%0.3f (+/-%0.03f) for %r\" % (mean, std * 2, params))\n",
    "\n"
   ]
  },
  {
   "cell_type": "code",
   "execution_count": null,
   "metadata": {},
   "outputs": [],
   "source": [
    "from sklearn.ensemble import RandomForestClassifier\n",
    "rndclf = RandomForestClassifier(max_depth=2, random_state=0)\n",
    "rndclf.fit(X_train, y_train)\n",
    "rndclf.score(X_test, y_test)\n",
    "\n",
    "y_pred = rndclf.predict(X_test)\n",
    "print(classification_report(y_test, y_pred))\n",
    "\n"
   ]
  },
  {
   "cell_type": "markdown",
   "metadata": {},
   "source": [
    "## Validation section\n",
    "\n",
    "- Read unbalanced dataset\n",
    "- Encode using selected encoder\n",
    "- Evaluate model"
   ]
  },
  {
   "cell_type": "code",
   "execution_count": null,
   "metadata": {},
   "outputs": [],
   "source": [
    "# DO NOT forget 'keep_default_na=False' --> otherwise some NaN values in read data\n",
    "val_df = pd.read_csv('./big-vul_dataset/line_sample_10p_original_ratio.csv', skipinitialspace=True, low_memory=True, keep_default_na=False)"
   ]
  },
  {
   "cell_type": "code",
   "execution_count": null,
   "metadata": {},
   "outputs": [],
   "source": [
    "line_val, prev_line_val, next_line_val, y_val = df['line'], df['prev_line'], df['next_line'], df['vul']\n",
    "\n",
    "X_val_encoded = encoder.encode(line_val.tolist(), prev_line_val.tolist(), next_line_val.tolist())\n",
    "print(\"Accuracy of prediction: \" , clf.score(X_val_encoded, y_val))\n",
    "y_val_pred = clf.predict(X_val_encoded)\n",
    "print(classification_report(y_val, y_val_pred))"
   ]
  },
  {
   "cell_type": "code",
   "execution_count": null,
   "metadata": {},
   "outputs": [],
   "source": []
  }
 ],
 "metadata": {
  "kernelspec": {
   "display_name": "Python 3 (ipykernel)",
   "language": "python",
   "name": "python3"
  },
  "language_info": {
   "codemirror_mode": {
    "name": "ipython",
    "version": 3
   },
   "file_extension": ".py",
   "mimetype": "text/x-python",
   "name": "python",
   "nbconvert_exporter": "python",
   "pygments_lexer": "ipython3",
   "version": "3.9.12"
  }
 },
 "nbformat": 4,
 "nbformat_minor": 4
}
