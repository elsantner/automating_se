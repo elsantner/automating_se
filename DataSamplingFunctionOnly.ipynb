{
 "cells": [
  {
   "cell_type": "code",
   "execution_count": 1,
   "id": "a4ca1c65",
   "metadata": {},
   "outputs": [],
   "source": [
    "import pandas as pd\n",
    "import numpy as np\n",
    "import math"
   ]
  },
  {
   "cell_type": "code",
   "execution_count": 2,
   "id": "ffb3fdb0",
   "metadata": {},
   "outputs": [],
   "source": [
    "df = pd.read_csv('./big-vul_dataset/functions_only_all.csv', skipinitialspace=True, low_memory = True)"
   ]
  },
  {
   "cell_type": "code",
   "execution_count": 3,
   "id": "820f9f0b",
   "metadata": {},
   "outputs": [
    {
     "data": {
      "text/plain": [
       "10900"
      ]
     },
     "execution_count": 3,
     "metadata": {},
     "output_type": "execute_result"
    }
   ],
   "source": [
    "# sorta weird NaN check (x == NaN if x != x)\n",
    "df_with_vul = df.loc[df['target'] == 1]\n",
    "len(df_with_vul)\n",
    "\n",
    "# Also noteworthy:\n",
    "# Why does this yield 8243 results while 10900 entries in the original dataset have vul = 1 ?"
   ]
  },
  {
   "cell_type": "code",
   "execution_count": 4,
   "id": "e8aa10f8",
   "metadata": {},
   "outputs": [
    {
     "data": {
      "text/plain": [
       "177736"
      ]
     },
     "execution_count": 4,
     "metadata": {},
     "output_type": "execute_result"
    }
   ],
   "source": [
    "# sorta weird NaN check (x == NaN if x != x)\n",
    "df_without_vul = df.loc[df['target'] == 0]\n",
    "len(df_without_vul)"
   ]
  },
  {
   "cell_type": "code",
   "execution_count": 5,
   "id": "8e1abc6a",
   "metadata": {},
   "outputs": [],
   "source": [
    "assert len(df) == len(df_with_vul) + len(df_without_vul), 'Some entries were lost during vul-filtering. Please check code!'"
   ]
  },
  {
   "cell_type": "code",
   "execution_count": 6,
   "id": "32596d22",
   "metadata": {},
   "outputs": [],
   "source": [
    "# Create a balanced dataset between vul and non-vul by keeping all original vulnerable entires and \n",
    "# sampling the same number of non-vulnerable entries\n",
    "sample_df_without_vul = df_without_vul.sample(len(df_with_vul))\n",
    "\n",
    "sample_df_all = pd.concat([df_with_vul, sample_df_without_vul], ignore_index=True)\n",
    "sample_df_all.to_csv('./big-vul_dataset/functions_only_all_balanced_ratio.csv', encoding='utf-8')"
   ]
  }
 ],
 "metadata": {
  "kernelspec": {
   "display_name": "Python 3 (ipykernel)",
   "language": "python",
   "name": "python3"
  },
  "language_info": {
   "codemirror_mode": {
    "name": "ipython",
    "version": 3
   },
   "file_extension": ".py",
   "mimetype": "text/x-python",
   "name": "python",
   "nbconvert_exporter": "python",
   "pygments_lexer": "ipython3",
   "version": "3.9.13"
  }
 },
 "nbformat": 4,
 "nbformat_minor": 5
}
