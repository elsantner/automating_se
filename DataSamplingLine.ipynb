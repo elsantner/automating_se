{
 "cells": [
  {
   "cell_type": "markdown",
   "id": "communist-cathedral",
   "metadata": {},
   "source": [
    "### Line Data Sampling\n",
    "Generate samples from a dataset generated in _DataPreprocessing_.\n",
    "\n",
    "*Please Note:* This functionality is line-level oriented. To sample all lines from functions please first sample on function level (_DataSamplingFunction.ipynb_) and then transform to line level (_DataPreprocessing.ipynb_). "
   ]
  },
  {
   "cell_type": "code",
   "execution_count": 35,
   "id": "excellent-editing",
   "metadata": {},
   "outputs": [],
   "source": [
    "# input must be in format output by process_line_level_data.py\n",
    "input_file = './big-vul_dataset/line_all.csv'"
   ]
  },
  {
   "cell_type": "code",
   "execution_count": 36,
   "id": "501c361c",
   "metadata": {},
   "outputs": [],
   "source": [
    "import pandas as pd\n",
    "import numpy as np\n",
    "import math\n",
    "import csv"
   ]
  },
  {
   "cell_type": "code",
   "execution_count": 37,
   "id": "753d57f3",
   "metadata": {},
   "outputs": [],
   "source": [
    "# load dataset\n",
    "# keep_default_na=False ... otherwise quoted NULL is read as NaN (for whatever stupid reason...)\n",
    "df = pd.read_csv(input_file, skipinitialspace=True, low_memory = True, keep_default_na=False)"
   ]
  },
  {
   "cell_type": "code",
   "execution_count": 38,
   "id": "restricted-ottawa",
   "metadata": {},
   "outputs": [],
   "source": [
    "# Separate vulnerable and non-vulnerable lines\n",
    "df_with_vul = df.loc[df['vul'] == 1]\n",
    "df_without_vul = df.loc[df['vul'] == 0]"
   ]
  },
  {
   "cell_type": "code",
   "execution_count": 39,
   "id": "interior-announcement",
   "metadata": {},
   "outputs": [],
   "source": [
    "# Sample 10 percent of original dataset while keeping the original ratio of vul to non-vul \n",
    "sample_df_with_vul = df_with_vul.sample(frac=0.1)\n",
    "sample_df_without_vul = df_without_vul.sample(frac=0.1)\n",
    "\n",
    "sample_df_all = pd.concat([sample_df_with_vul, sample_df_without_vul], ignore_index=True)\n",
    "sample_df_all[['func_id', 'line', 'vul', 'idx_in_func']].to_csv('./big-vul_dataset/line_sample_10p_original_ratio.csv', encoding='utf-8', quoting=csv.QUOTE_ALL)"
   ]
  },
  {
   "cell_type": "code",
   "execution_count": 40,
   "id": "egyptian-steering",
   "metadata": {},
   "outputs": [],
   "source": [
    "# Create a balanced dataset between vul and non-vul by keeping all original vulnerable entires and \n",
    "# sampling the same number of non-vulnerable entries\n",
    "sample_df_without_vul = df_without_vul.sample(len(df_with_vul))\n",
    "\n",
    "sample_df_all = pd.concat([df_with_vul, sample_df_without_vul], ignore_index=True)\n",
    "sample_df_all[['func_id', 'line', 'vul', 'idx_in_func']].to_csv('./big-vul_dataset/line_sample_all_balanced_ratio.csv', encoding='utf-8', quoting=csv.QUOTE_ALL)"
   ]
  },
  {
   "cell_type": "code",
   "execution_count": 41,
   "id": "revolutionary-oracle",
   "metadata": {},
   "outputs": [],
   "source": [
    "# Create a balanced dataset between vul and non-vul by sampling 20% of vulnerable entires and \n",
    "# adding the same number of non-vulnerable\n",
    "sample_df_with_vul = df_with_vul.sample(frac=0.2)\n",
    "sample_df_without_vul = df_without_vul.sample(len(sample_df_with_vul))\n",
    "\n",
    "sample_df_all = pd.concat([sample_df_with_vul, sample_df_without_vul], ignore_index=True)\n",
    "sample_df_all[['func_id', 'line', 'vul', 'idx_in_func']].to_csv('./big-vul_dataset/line_sample_20p_balanced_ratio.csv', encoding='utf-8', quoting=csv.QUOTE_ALL)"
   ]
  },
  {
   "cell_type": "code",
   "execution_count": null,
   "id": "literary-malpractice",
   "metadata": {},
   "outputs": [],
   "source": []
  }
 ],
 "metadata": {
  "kernelspec": {
   "display_name": "Python 3",
   "language": "python",
   "name": "python3"
  },
  "language_info": {
   "codemirror_mode": {
    "name": "ipython",
    "version": 3
   },
   "file_extension": ".py",
   "mimetype": "text/x-python",
   "name": "python",
   "nbconvert_exporter": "python",
   "pygments_lexer": "ipython3",
   "version": "3.9.1"
  }
 },
 "nbformat": 4,
 "nbformat_minor": 5
}
